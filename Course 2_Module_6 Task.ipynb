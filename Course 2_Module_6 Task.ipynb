{
 "cells": [
  {
   "cell_type": "markdown",
   "metadata": {},
   "source": [
    "#### Add your code below following the instructions given in the course\n"
   ]
  },
  {
   "cell_type": "markdown",
   "metadata": {},
   "source": [
    "Exercise 2 - Create a markdown cell with the title of the notebook. (1 pt)\n",
    "\n",
    "## Notebook"
   ]
  },
  {
   "cell_type": "markdown",
   "metadata": {},
   "source": [
    "Exercise 3 - Create a markdown cell for an introduction. (1 pt)\n",
    "\n",
    "## Introduction"
   ]
  },
  {
   "cell_type": "markdown",
   "metadata": {},
   "source": [
    "Exercise 4 - Create a markdown cell to list data science languages. (3 pts)\n",
    "\n",
    "## Data Science Language\n",
    "* R\n",
    "* Python\n",
    "* SQL"
   ]
  },
  {
   "cell_type": "markdown",
   "metadata": {},
   "source": [
    "Exercise 5 - Create a markdown cell to list data science libraries. (3 pts)\n",
    "\n",
    "## Data Science Libraries\n",
    "1. **Python**\n",
    "- Numpy\n",
    "- Pandas\n",
    "- Matplotlib\n",
    "- Seaborn\n",
    "- Keras\n",
    "- Tensorflow\n",
    "- Scikit-learn\n",
    "- Pytorch\n",
    "\n",
    "2. **R**\n",
    "- dplyr\n",
    "- stringr\n",
    "- ggplot\n",
    "- caret\n"
   ]
  },
  {
   "cell_type": "markdown",
   "metadata": {},
   "source": [
    "Exercise 6 - Create a markdown cell with a table of Data Science tools. (3 pts)\n",
    "\n",
    "\n",
    "## Data Science Tools\n",
    "\n",
    "| Tools              | Details                                                      | \n",
    "|--------------------|--------------------------------------------------------------| \n",
    "| Google Colab       | Free Jupyter Notebook environment                            |\n",
    "| Jupyter Notebook   | A browser based application                                  |\n",
    "| VS Code            | A free, open source code editor                              |\n",
    "| Jupyter Lab        | Open source web-based application                            |\n",
    "| Anaconda           | A free and open source distributor for Python and R          |\n",
    "| R Studio           | A statistical programming language used for data processing  |\n",
    "| Git                | Free open source software for version control                |\n",
    "| GitHub             | An online hosting service for Git repository                 |\n",
    "| Jupyter Lite       | A lightweight tool built from Jupyter component              |"
   ]
  },
  {
   "cell_type": "markdown",
   "metadata": {},
   "source": [
    "Exercise 7 - Create a markdown cell introducing arithmetic expression examples. (1 pt)\n",
    "\n",
    "### y = 2 x +((2*6)+4-2)/2"
   ]
  },
  {
   "cell_type": "code",
   "execution_count": 1,
   "metadata": {},
   "outputs": [
    {
     "name": "stdout",
     "output_type": "stream",
     "text": [
      "11\n"
     ]
    }
   ],
   "source": [
    "# Exercise 8 - Create a code cell to multiply and add numbers. (2 pts)\n",
    "\n",
    "a= 2\n",
    "b= 3\n",
    "c= 5\n",
    "y = (a*b)+c\n",
    "print(y)"
   ]
  },
  {
   "cell_type": "code",
   "execution_count": 2,
   "metadata": {},
   "outputs": [
    {
     "name": "stdout",
     "output_type": "stream",
     "text": [
      "1.0\n"
     ]
    }
   ],
   "source": [
    "#Exercise 9 - Create a code cell to convert minutes to hours. (2 pts)\n",
    "\n",
    "sec = 60\n",
    "mins = sec * 1\n",
    "hours = mins / 60\n",
    "print(hours)"
   ]
  },
  {
   "cell_type": "markdown",
   "metadata": {},
   "source": [
    "Exercise 10 -Insert a markdown cell to list Objectives. (3 pts)\n",
    "\n",
    "## Objectives\n",
    "- Creat a title for the exercise\n",
    "- Begin with introduction\n",
    "- List data science languages\n",
    "- list data science libraries\n",
    "- Make a table of data science tools\n",
    "- Introduce an arithmetic expression\n",
    "- Multiply and add numbers\n",
    "- Convert minutes to hours"
   ]
  },
  {
   "cell_type": "markdown",
   "metadata": {},
   "source": [
    "Exercise 11 - Create a markdown cell to indicate the Author’s name. (2 pts)\n",
    "\n",
    "## Happy Monday"
   ]
  },
  {
   "cell_type": "code",
   "execution_count": null,
   "metadata": {},
   "outputs": [],
   "source": []
  }
 ],
 "metadata": {
  "kernelspec": {
   "display_name": "Python 3",
   "language": "python",
   "name": "python3"
  },
  "language_info": {
   "codemirror_mode": {
    "name": "ipython",
    "version": 3
   },
   "file_extension": ".py",
   "mimetype": "text/x-python",
   "name": "python",
   "nbconvert_exporter": "python",
   "pygments_lexer": "ipython3",
   "version": "3.7.7"
  }
 },
 "nbformat": 4,
 "nbformat_minor": 4
}
